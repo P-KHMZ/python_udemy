{
 "cells": [
  {
   "cell_type": "code",
   "execution_count": 1,
   "id": "4946e6f3",
   "metadata": {
    "scrolled": true
   },
   "outputs": [
    {
     "name": "stdout",
     "output_type": "stream",
     "text": [
      "Hello World\n"
     ]
    }
   ],
   "source": [
    "print(\"Hello World\")"
   ]
  },
  {
   "cell_type": "code",
   "execution_count": 2,
   "id": "2e496030",
   "metadata": {},
   "outputs": [
    {
     "data": {
      "text/plain": [
       "2.0"
      ]
     },
     "execution_count": 2,
     "metadata": {},
     "output_type": "execute_result"
    }
   ],
   "source": [
    "4/2"
   ]
  },
  {
   "cell_type": "code",
   "execution_count": 3,
   "id": "e05a3270",
   "metadata": {},
   "outputs": [
    {
     "data": {
      "text/plain": [
       "100.0"
      ]
     },
     "execution_count": 3,
     "metadata": {},
     "output_type": "execute_result"
    }
   ],
   "source": [
    "((200*2)-(100))/3"
   ]
  },
  {
   "cell_type": "code",
   "execution_count": 4,
   "id": "96f33036",
   "metadata": {},
   "outputs": [
    {
     "data": {
      "text/plain": [
       "'HELLO WORLD'"
      ]
     },
     "execution_count": 4,
     "metadata": {},
     "output_type": "execute_result"
    }
   ],
   "source": [
    "x = \"hello world\";\n",
    "x.upper()"
   ]
  },
  {
   "cell_type": "code",
   "execution_count": 5,
   "id": "d7dadaa6",
   "metadata": {},
   "outputs": [],
   "source": [
    "my_list = ['One', 'Two', 'Three', 'Four', 'Five']"
   ]
  },
  {
   "cell_type": "code",
   "execution_count": 6,
   "id": "e16a5c68",
   "metadata": {},
   "outputs": [
    {
     "data": {
      "text/plain": [
       "['One', 'Two', 'Three', 'Four', 'Five']"
      ]
     },
     "execution_count": 6,
     "metadata": {},
     "output_type": "execute_result"
    }
   ],
   "source": [
    "my_list"
   ]
  },
  {
   "cell_type": "code",
   "execution_count": 7,
   "id": "b7cdb300",
   "metadata": {},
   "outputs": [],
   "source": [
    "my_list.append('six')"
   ]
  },
  {
   "cell_type": "code",
   "execution_count": 8,
   "id": "139bf082",
   "metadata": {},
   "outputs": [
    {
     "data": {
      "text/plain": [
       "['One', 'Two', 'Three', 'Four', 'Five', 'six']"
      ]
     },
     "execution_count": 8,
     "metadata": {},
     "output_type": "execute_result"
    }
   ],
   "source": [
    "my_list"
   ]
  },
  {
   "cell_type": "code",
   "execution_count": 9,
   "id": "dfc4bfa8",
   "metadata": {},
   "outputs": [
    {
     "data": {
      "text/plain": [
       "['Two', 'Three', 'Four', 'Five', 'six']"
      ]
     },
     "execution_count": 9,
     "metadata": {},
     "output_type": "execute_result"
    }
   ],
   "source": [
    "my_list[1:]"
   ]
  },
  {
   "cell_type": "code",
   "execution_count": 10,
   "id": "cb052c48",
   "metadata": {},
   "outputs": [
    {
     "data": {
      "text/plain": [
       "dict_items([('k1', 1), ('k2', 'a'), ('k3', ['a', 'b', 'c']), ('k4', {'secondkey': 1}), ('k5', 3)])"
      ]
     },
     "execution_count": 10,
     "metadata": {},
     "output_type": "execute_result"
    }
   ],
   "source": [
    "my_dict = {'k1':1, 'k2':'a', 'k3':['a', 'b', 'c'], 'k4':{'secondkey':1}}\n",
    "my_dict\n",
    "my_dict['k3'][2].upper()#note to access the value of a dictionnary we have to specify the its key. ex x['k2']\n",
    "my_dict['k5'] = 3\n",
    "my_dict.items()"
   ]
  },
  {
   "cell_type": "code",
   "execution_count": 11,
   "id": "3c020dfb",
   "metadata": {},
   "outputs": [
    {
     "data": {
      "text/plain": [
       "2"
      ]
     },
     "execution_count": 11,
     "metadata": {},
     "output_type": "execute_result"
    }
   ],
   "source": [
    "d={'k1':[1,2,3]}\n",
    "d['k1'][1]"
   ]
  },
  {
   "cell_type": "markdown",
   "id": "243192a5",
   "metadata": {},
   "source": [
    "===== FILE IN PYTHON ======="
   ]
  },
  {
   "cell_type": "code",
   "execution_count": 12,
   "id": "fa5ecce5",
   "metadata": {},
   "outputs": [
    {
     "name": "stdout",
     "output_type": "stream",
     "text": [
      "Overwriting my_txt_file.txt\n"
     ]
    }
   ],
   "source": [
    "%%writefile my_txt_file.txt\n",
    "This is a text file\n",
    "this is the second line \n",
    "This is the third line"
   ]
  },
  {
   "cell_type": "code",
   "execution_count": 13,
   "id": "1d6ccfdc",
   "metadata": {},
   "outputs": [],
   "source": [
    "myfile = open('my_txt_file.txt')"
   ]
  },
  {
   "cell_type": "code",
   "execution_count": 14,
   "id": "135b4bfc",
   "metadata": {},
   "outputs": [
    {
     "data": {
      "text/plain": [
       "'This is a text file\\nthis is the second line \\nThis is the third line\\n'"
      ]
     },
     "execution_count": 14,
     "metadata": {},
     "output_type": "execute_result"
    }
   ],
   "source": [
    "myfile.read()"
   ]
  },
  {
   "cell_type": "code",
   "execution_count": 15,
   "id": "bae4d9f7",
   "metadata": {},
   "outputs": [
    {
     "data": {
      "text/plain": [
       "''"
      ]
     },
     "execution_count": 15,
     "metadata": {},
     "output_type": "execute_result"
    }
   ],
   "source": [
    "myfile.read()"
   ]
  },
  {
   "cell_type": "code",
   "execution_count": 16,
   "id": "04aa9c5e",
   "metadata": {},
   "outputs": [
    {
     "data": {
      "text/plain": [
       "0"
      ]
     },
     "execution_count": 16,
     "metadata": {},
     "output_type": "execute_result"
    }
   ],
   "source": [
    "myfile.seek(0)"
   ]
  },
  {
   "cell_type": "code",
   "execution_count": 17,
   "id": "c0bb6bb6",
   "metadata": {},
   "outputs": [
    {
     "data": {
      "text/plain": [
       "'This is a text file\\nthis is the second line \\nThis is the third line\\n'"
      ]
     },
     "execution_count": 17,
     "metadata": {},
     "output_type": "execute_result"
    }
   ],
   "source": [
    "myfile.read()"
   ]
  },
  {
   "cell_type": "code",
   "execution_count": 18,
   "id": "75cdffb2",
   "metadata": {},
   "outputs": [
    {
     "data": {
      "text/plain": [
       "0"
      ]
     },
     "execution_count": 18,
     "metadata": {},
     "output_type": "execute_result"
    }
   ],
   "source": [
    "myfile.seek(0)"
   ]
  },
  {
   "cell_type": "code",
   "execution_count": 19,
   "id": "0d1ea052",
   "metadata": {},
   "outputs": [
    {
     "data": {
      "text/plain": [
       "['This is a text file\\n',\n",
       " 'this is the second line \\n',\n",
       " 'This is the third line\\n']"
      ]
     },
     "execution_count": 19,
     "metadata": {},
     "output_type": "execute_result"
    }
   ],
   "source": [
    "myfile.readlines()"
   ]
  },
  {
   "cell_type": "code",
   "execution_count": 20,
   "id": "801908ec",
   "metadata": {},
   "outputs": [],
   "source": [
    "myfile.close()#close the file so that you can be able to delete it.\n",
    "#if you don't want to close a file at the end use this syntax below "
   ]
  },
  {
   "cell_type": "code",
   "execution_count": 21,
   "id": "341b5ac2",
   "metadata": {},
   "outputs": [],
   "source": [
    "with open('my_txt_file.txt') as my_new_file:\n",
    "    contents = my_new_file.readlines()# contents it is a name of a variable."
   ]
  },
  {
   "cell_type": "code",
   "execution_count": 22,
   "id": "9e7ee117",
   "metadata": {},
   "outputs": [
    {
     "data": {
      "text/plain": [
       "['This is a text file\\n',\n",
       " 'this is the second line \\n',\n",
       " 'This is the third line\\n']"
      ]
     },
     "execution_count": 22,
     "metadata": {},
     "output_type": "execute_result"
    }
   ],
   "source": [
    "contents"
   ]
  },
  {
   "cell_type": "markdown",
   "id": "95eb793a",
   "metadata": {},
   "source": [
    "# reading, Writing, Appending, Modes\n",
    "Mode = 'r' is read only\n",
    "Mode = 'w' is write only(will overwrite files or create new)\n",
    "Mode = 'a' is append only(will add on the file)\n",
    "Mode = 'r+'is reading and writing\n",
    "Mode = 'w+' is writing and reading(Overwrites existing files or creates a new file)"
   ]
  },
  {
   "cell_type": "code",
   "execution_count": 23,
   "id": "bdfc6b9f",
   "metadata": {},
   "outputs": [
    {
     "name": "stdout",
     "output_type": "stream",
     "text": [
      "Overwriting my_new_files.txt\n"
     ]
    }
   ],
   "source": [
    "%%writefile my_new_files.txt\n",
    "One on the first\n",
    "Two on the second\n",
    "Three on the third"
   ]
  },
  {
   "cell_type": "code",
   "execution_count": 24,
   "id": "3f09ee7f",
   "metadata": {},
   "outputs": [
    {
     "name": "stdout",
     "output_type": "stream",
     "text": [
      "One on the first\n",
      "Two on the second\n",
      "Three on the third\n",
      "\n"
     ]
    }
   ],
   "source": [
    "with open('my_new_files.txt', mode='r') as f:\n",
    "    print(f.read())"
   ]
  },
  {
   "cell_type": "code",
   "execution_count": 25,
   "id": "5f3031f1",
   "metadata": {},
   "outputs": [],
   "source": [
    "with open('my_new_files.txt', mode = 'a') as f:#append\n",
    "    f.write('Four on the Fourth')"
   ]
  },
  {
   "cell_type": "code",
   "execution_count": 26,
   "id": "a9d01c36",
   "metadata": {},
   "outputs": [
    {
     "name": "stdout",
     "output_type": "stream",
     "text": [
      "One on the first\n",
      "Two on the second\n",
      "Three on the third\n",
      "Four on the Fourth\n"
     ]
    }
   ],
   "source": [
    "with open('my_new_files.txt', mode='r') as f:#read\n",
    "    print(f.read())"
   ]
  },
  {
   "cell_type": "code",
   "execution_count": 27,
   "id": "eb20594d",
   "metadata": {},
   "outputs": [],
   "source": [
    "with open('my_new_blabla.txt', mode='w') as f:#this code overwrite or create a new file doesn't exist\n",
    "    f.write('I create this new file to overwrite the existing ot to create the new one')\n"
   ]
  },
  {
   "cell_type": "code",
   "execution_count": 28,
   "id": "9faf108c",
   "metadata": {},
   "outputs": [
    {
     "name": "stdout",
     "output_type": "stream",
     "text": [
      "I create this new file to overwrite the existing ot to create the new one\n"
     ]
    }
   ],
   "source": [
    "with open('my_new_blabla.txt', mode='r') as f:\n",
    "    print(f.read())"
   ]
  },
  {
   "cell_type": "code",
   "execution_count": 29,
   "id": "9db20e95",
   "metadata": {},
   "outputs": [
    {
     "data": {
      "text/plain": [
       "['Hello']"
      ]
     },
     "execution_count": 29,
     "metadata": {},
     "output_type": "execute_result"
    }
   ],
   "source": [
    "#Exercises Dictionary that returns Hello\n",
    "d={'k1':[1,2,{'k2':['this is tricky', {'though':[1,2, ['Hello']]}]}]}\n",
    "d['k1'][2]['k2'][1]['though'][2]"
   ]
  },
  {
   "cell_type": "code",
   "execution_count": 30,
   "id": "e117a0c5",
   "metadata": {},
   "outputs": [
    {
     "name": "stdout",
     "output_type": "stream",
     "text": [
      "Money is cool\n"
     ]
    }
   ],
   "source": [
    "#Control flow\n",
    "loc = \"Bank\" or \" bank\"\n",
    "if loc == \"Auto shop\":\n",
    "    print(\"Cars are cool\")\n",
    "elif loc == \"Bank\":\n",
    "    print(\"Money is cool\")\n",
    "else:\n",
    "    print(\"I do not know much...sorry\")"
   ]
  },
  {
   "cell_type": "code",
   "execution_count": 31,
   "id": "b0672abd",
   "metadata": {},
   "outputs": [
    {
     "name": "stdout",
     "output_type": "stream",
     "text": [
      "cool\n",
      "cool\n",
      "cool\n",
      "cool\n",
      "cool\n",
      "cool\n",
      "cool\n",
      "cool\n",
      "cool\n",
      "cool\n",
      "cool\n"
     ]
    }
   ],
   "source": [
    "for _ in 'hello world':\n",
    "    print(\"cool\")# not we can use ; at the end of some lines of codes or not"
   ]
  },
  {
   "cell_type": "code",
   "execution_count": 32,
   "id": "e78faa65",
   "metadata": {},
   "outputs": [
    {
     "name": "stdout",
     "output_type": "stream",
     "text": [
      "The current value of x is 0\n",
      "The current value of x is 1\n",
      "The current value of x is 2\n",
      "The current value of x is 3\n",
      "The current value of x is 4\n"
     ]
    }
   ],
   "source": [
    "x=0;\n",
    "while x<5:\n",
    "    print(f'The current value of x is {x}')\n",
    "    x+=1"
   ]
  },
  {
   "cell_type": "code",
   "execution_count": 33,
   "id": "2243d263",
   "metadata": {},
   "outputs": [
    {
     "name": "stdout",
     "output_type": "stream",
     "text": [
      "1\n",
      "3\n",
      "5\n",
      "7\n",
      "9\n"
     ]
    }
   ],
   "source": [
    "for num in range(1, 11, 2):\n",
    "    print(num)"
   ]
  },
  {
   "cell_type": "code",
   "execution_count": 34,
   "id": "36c166f3",
   "metadata": {},
   "outputs": [
    {
     "name": "stdout",
     "output_type": "stream",
     "text": [
      "a\n",
      "b\n",
      "c\n",
      "d\n",
      "e\n"
     ]
    }
   ],
   "source": [
    "index_count = 0\n",
    "word = 'abcde'\n",
    "for letter in word:\n",
    "    print(word[index_count])\n",
    "    index_count+=1"
   ]
  },
  {
   "cell_type": "code",
   "execution_count": 35,
   "id": "d760f8d9",
   "metadata": {},
   "outputs": [
    {
     "name": "stdout",
     "output_type": "stream",
     "text": [
      "(0, 'a')\n",
      "(1, 'b')\n",
      "(2, 'c')\n",
      "(3, 'd')\n",
      "(4, 'e')\n"
     ]
    }
   ],
   "source": [
    "word = 'abcde'\n",
    "for items in enumerate(word):\n",
    "    print(items)"
   ]
  },
  {
   "cell_type": "markdown",
   "id": "377d7449",
   "metadata": {},
   "source": [
    "# Exercises on the Statement Test\n"
   ]
  },
  {
   "cell_type": "code",
   "execution_count": 36,
   "id": "58b886bf",
   "metadata": {},
   "outputs": [
    {
     "name": "stdout",
     "output_type": "stream",
     "text": [
      "1\n",
      "2\n",
      "Fizz\n",
      "4\n",
      "Buzz\n",
      "Fizz\n",
      "7\n",
      "8\n",
      "Fizz\n",
      "Buzz\n",
      "11\n",
      "Fizz\n",
      "13\n",
      "14\n",
      "FizzBuzz\n",
      "16\n",
      "17\n",
      "Fizz\n",
      "19\n",
      "Buzz\n",
      "Fizz\n",
      "22\n",
      "23\n",
      "Fizz\n",
      "Buzz\n",
      "26\n",
      "Fizz\n",
      "28\n",
      "29\n",
      "FizzBuzz\n",
      "31\n",
      "32\n",
      "Fizz\n",
      "34\n",
      "Buzz\n",
      "Fizz\n",
      "37\n",
      "38\n",
      "Fizz\n",
      "Buzz\n",
      "41\n",
      "Fizz\n",
      "43\n",
      "44\n",
      "FizzBuzz\n",
      "46\n",
      "47\n",
      "Fizz\n",
      "49\n",
      "Buzz\n",
      "Fizz\n",
      "52\n",
      "53\n",
      "Fizz\n",
      "Buzz\n",
      "56\n",
      "Fizz\n",
      "58\n",
      "59\n",
      "FizzBuzz\n",
      "61\n",
      "62\n",
      "Fizz\n",
      "64\n",
      "Buzz\n",
      "Fizz\n",
      "67\n",
      "68\n",
      "Fizz\n",
      "Buzz\n",
      "71\n",
      "Fizz\n",
      "73\n",
      "74\n",
      "FizzBuzz\n",
      "76\n",
      "77\n",
      "Fizz\n",
      "79\n",
      "Buzz\n",
      "Fizz\n",
      "82\n",
      "83\n",
      "Fizz\n",
      "Buzz\n",
      "86\n",
      "Fizz\n",
      "88\n",
      "89\n",
      "FizzBuzz\n",
      "91\n",
      "92\n",
      "Fizz\n",
      "94\n",
      "Buzz\n",
      "Fizz\n",
      "97\n",
      "98\n",
      "Fizz\n",
      "Buzz\n"
     ]
    }
   ],
   "source": [
    "#Exersise \n",
    "for num in range(1,101):\n",
    "    #print(num);\n",
    "    if(num%3 == 0 and num%5==0):\n",
    "        print(\"FizzBuzz\");\n",
    "    elif(num % 3 == 0):\n",
    "        print(\"Fizz\");\n",
    "    elif(num%5==0):\n",
    "        print(\"Buzz\");\n",
    "    else:\n",
    "        print(num)"
   ]
  },
  {
   "cell_type": "code",
   "execution_count": 37,
   "id": "ba5f36c1",
   "metadata": {},
   "outputs": [
    {
     "name": "stdout",
     "output_type": "stream",
     "text": [
      "Sam\n",
      "start\n",
      "s\n",
      "setence\n",
      "word is even\n",
      "in is even\n",
      "this is even\n",
      "that is even\n",
      "even is even\n",
      "of is even\n"
     ]
    },
    {
     "data": {
      "text/plain": [
       "['c', 'a', 'l', 'o', 't', 'f', 'l', 'o', 'e', 'w', 'i', 't', 's']"
      ]
     },
     "execution_count": 37,
     "metadata": {},
     "output_type": "execute_result"
    }
   ],
   "source": [
    "#Question this code prints only the word in the setense that start with s, either capital or lower\n",
    "my_string='Sam only the words start with s in this setence'\n",
    "for word in my_string.split():\n",
    "    if word[0].lower() == 's':\n",
    "        print(word)\n",
    "\n",
    "#Question #2 use range even to print 0 to 10\n",
    "list(range(0,11,2))\n",
    "\n",
    "#Question 3: list comprehension to print the multiple of 3\n",
    "multi_3 = [x for x in range(1,51) if x%3==0]\n",
    "multi_3\n",
    "\n",
    "#Question 4:\n",
    "st=\"Print every word in this setence that has even numbers of letters\"\n",
    "for word in st.split():\n",
    "    if len(word)%2 ==0:\n",
    "        print(word+' is even')\n",
    "#Question 6:\n",
    "st_1=\"create a list of the first letters of every word in this string\"\n",
    "[word_1[0] for word_1 in st_1.split()]\n"
   ]
  },
  {
   "cell_type": "code",
   "execution_count": 38,
   "id": "f98a3a3d",
   "metadata": {},
   "outputs": [],
   "source": [
    "def is_even(num_list):\n",
    "    my_list = [];\n",
    "    for num in num_list:\n",
    "        if num%2==0:\n",
    "            my_list.append(num);\n",
    "        else:\n",
    "            pass\n",
    "    return my_list"
   ]
  },
  {
   "cell_type": "code",
   "execution_count": 39,
   "id": "97c089db",
   "metadata": {},
   "outputs": [
    {
     "data": {
      "text/plain": [
       "[]"
      ]
     },
     "execution_count": 39,
     "metadata": {},
     "output_type": "execute_result"
    }
   ],
   "source": [
    "is_even([1,3,5])"
   ]
  },
  {
   "cell_type": "code",
   "execution_count": 40,
   "id": "84d43895",
   "metadata": {},
   "outputs": [
    {
     "name": "stdout",
     "output_type": "stream",
     "text": [
      "('Apple', 200)\n",
      "('Google', 400)\n",
      "('Microsoft', 100)\n"
     ]
    }
   ],
   "source": [
    "stock_prices = [('Apple', 200), ('Google', 400), ('Microsoft', 100)]\n",
    "for item in stock_prices:\n",
    "    print(item)"
   ]
  },
  {
   "cell_type": "code",
   "execution_count": 41,
   "id": "15e4a964",
   "metadata": {},
   "outputs": [
    {
     "name": "stdout",
     "output_type": "stream",
     "text": [
      "Apple\n",
      "Google\n",
      "Microsoft\n"
     ]
    }
   ],
   "source": [
    "for ticker, prices in stock_prices:\n",
    "    print(ticker)"
   ]
  },
  {
   "cell_type": "code",
   "execution_count": 42,
   "id": "2510f84b",
   "metadata": {},
   "outputs": [
    {
     "name": "stdout",
     "output_type": "stream",
     "text": [
      "220.0\n",
      "440.0\n",
      "110.0\n"
     ]
    }
   ],
   "source": [
    "for ticker, prices in stock_prices:\n",
    "    print(prices+(0.1*prices))"
   ]
  },
  {
   "cell_type": "code",
   "execution_count": 43,
   "id": "92386d92",
   "metadata": {},
   "outputs": [],
   "source": [
    "work_hours = [('Abbi', 1500),('Chris', 1000), ('Ann', 300)]"
   ]
  },
  {
   "cell_type": "code",
   "execution_count": 44,
   "id": "9c828046",
   "metadata": {},
   "outputs": [],
   "source": [
    "def employee_check(work_hours):\n",
    "    employee_of_month = '';\n",
    "    current_max = 0;\n",
    "    for employee, hours in work_hours:\n",
    "        if hours>current_max:\n",
    "            current_max = hours;\n",
    "            employee_of_month = employee;\n",
    "        else:\n",
    "            pass;\n",
    "    return (employee_of_month, current_max)"
   ]
  },
  {
   "cell_type": "code",
   "execution_count": 45,
   "id": "833ecf17",
   "metadata": {},
   "outputs": [
    {
     "data": {
      "text/plain": [
       "('Abbi', 1500)"
      ]
     },
     "execution_count": 45,
     "metadata": {},
     "output_type": "execute_result"
    }
   ],
   "source": [
    "employee_check(work_hours)"
   ]
  },
  {
   "cell_type": "markdown",
   "id": "3c487adc",
   "metadata": {},
   "source": [
    "# This is the way we can assign the result to variable"
   ]
  },
  {
   "cell_type": "code",
   "execution_count": 46,
   "id": "146e94b3",
   "metadata": {},
   "outputs": [],
   "source": [
    "result = employee_check(work_hours)\n",
    "name, hours = employee_check(work_hours)"
   ]
  },
  {
   "cell_type": "code",
   "execution_count": 47,
   "id": "93477a5f",
   "metadata": {},
   "outputs": [
    {
     "data": {
      "text/plain": [
       "'Abbi'"
      ]
     },
     "execution_count": 47,
     "metadata": {},
     "output_type": "execute_result"
    }
   ],
   "source": [
    "name"
   ]
  },
  {
   "cell_type": "markdown",
   "id": "7bf3fe93",
   "metadata": {},
   "source": [
    "# Function interactions"
   ]
  },
  {
   "cell_type": "code",
   "execution_count": 1,
   "id": "c28bef9f",
   "metadata": {},
   "outputs": [],
   "source": [
    "example = [1,2,3,4,5,6,7]\n",
    "from random import shuffle\n",
    "\n",
    "def shuffle_list(my_list):\n",
    "    shuffle(my_list)\n",
    "    return my_list\n",
    "my_list = [' ', 'O', ' '];\n",
    "#result = shuffle_list(example)\n",
    "#result\n"
   ]
  },
  {
   "cell_type": "code",
   "execution_count": 2,
   "id": "93483107",
   "metadata": {},
   "outputs": [],
   "source": [
    "def player_guess():\n",
    "    guess = '';\n",
    "    while guess not in ['0', '1', '2']:\n",
    "        guess = input(\"Pick an number among: 0,1, or 2\");\n",
    "    return int(guess)"
   ]
  },
  {
   "cell_type": "code",
   "execution_count": 3,
   "id": "66740563",
   "metadata": {},
   "outputs": [
    {
     "name": "stdout",
     "output_type": "stream",
     "text": [
      "Pick an number among: 0,1, or 2\n",
      "Pick an number among: 0,1, or 22\n"
     ]
    },
    {
     "data": {
      "text/plain": [
       "2"
      ]
     },
     "execution_count": 3,
     "metadata": {},
     "output_type": "execute_result"
    }
   ],
   "source": [
    "player_guess()"
   ]
  },
  {
   "cell_type": "code",
   "execution_count": 4,
   "id": "75514900",
   "metadata": {},
   "outputs": [],
   "source": [
    "def check_guess(my_list,guess):\n",
    "    if my_list[guess] == 'O':\n",
    "        print('Correct!');\n",
    "    else:\n",
    "        print('Wrong guess');\n",
    "        print(my_list);"
   ]
  },
  {
   "cell_type": "code",
   "execution_count": 6,
   "id": "5e685b92",
   "metadata": {},
   "outputs": [
    {
     "name": "stdout",
     "output_type": "stream",
     "text": [
      "Pick an number among: 0,1, or 24\n",
      "Pick an number among: 0,1, or 22\n",
      "Wrong guess\n",
      "[' ', 'O', ' ']\n"
     ]
    }
   ],
   "source": [
    "#INITIAL LIST\n",
    "my_list = [' ', 'O', ' ']\n",
    "\n",
    "#SHUFFLE LIST\n",
    "mixeduplis = shuffle_list(my_list);\n",
    "#USER GUESS\n",
    "guess = player_guess();\n",
    "#CHECKER GUESS\n",
    "check_guess(mixeduplis, guess)"
   ]
  },
  {
   "cell_type": "code",
   "execution_count": null,
   "id": "50a080cc",
   "metadata": {},
   "outputs": [],
   "source": []
  }
 ],
 "metadata": {
  "kernelspec": {
   "display_name": "Python 3 (ipykernel)",
   "language": "python",
   "name": "python3"
  },
  "language_info": {
   "codemirror_mode": {
    "name": "ipython",
    "version": 3
   },
   "file_extension": ".py",
   "mimetype": "text/x-python",
   "name": "python",
   "nbconvert_exporter": "python",
   "pygments_lexer": "ipython3",
   "version": "3.9.12"
  }
 },
 "nbformat": 4,
 "nbformat_minor": 5
}
