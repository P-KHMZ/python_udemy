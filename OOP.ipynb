{
 "cells": [
  {
   "cell_type": "markdown",
   "id": "e50d2bf0",
   "metadata": {},
   "source": [
    "# Object Oriented Programming"
   ]
  },
  {
   "cell_type": "code",
   "execution_count": 5,
   "id": "535f5cb5",
   "metadata": {},
   "outputs": [],
   "source": [
    "class Dog():\n",
    "    species = 'Mamal';\n",
    "    def __init__(self, breed, name):\n",
    "        self.breed = breed;\n",
    "        self.name = name;\n",
    "    def bark(self, number):\n",
    "        print('Woof! my name is {} and the number is {} '.format(self.name, number));"
   ]
  },
  {
   "cell_type": "code",
   "execution_count": 6,
   "id": "005bedd8",
   "metadata": {},
   "outputs": [],
   "source": [
    "my_dog = Dog('Lab', 'Frankie') "
   ]
  },
  {
   "cell_type": "code",
   "execution_count": 7,
   "id": "23a300ac",
   "metadata": {},
   "outputs": [
    {
     "data": {
      "text/plain": [
       "'Frankie'"
      ]
     },
     "execution_count": 7,
     "metadata": {},
     "output_type": "execute_result"
    }
   ],
   "source": [
    "my_dog.name"
   ]
  },
  {
   "cell_type": "code",
   "execution_count": 8,
   "id": "5416ec1d",
   "metadata": {},
   "outputs": [
    {
     "name": "stdout",
     "output_type": "stream",
     "text": [
      "Woof! my name is Frankie and the number is 12 \n"
     ]
    }
   ],
   "source": [
    "my_dog.bark(12)"
   ]
  },
  {
   "cell_type": "code",
   "execution_count": 33,
   "id": "7cde8774",
   "metadata": {},
   "outputs": [],
   "source": [
    "class Circle():\n",
    "    pi = 3.14;\n",
    "    def __init__(self, radius = 1):\n",
    "        self.radius = radius;\n",
    "        #the attribute does not need to be called before\n",
    "        self.area = radius*radius*self.pi #or\n",
    "#         self.area = radiud*radius.Circle.pi\n",
    "        \n",
    "    def get_circomference(self):\n",
    "        return self.radius * self.pi *2"
   ]
  },
  {
   "cell_type": "code",
   "execution_count": 34,
   "id": "2d1fb4b4",
   "metadata": {},
   "outputs": [],
   "source": [
    "#instance of the class Circle\n",
    "my_circle = Circle(30)"
   ]
  },
  {
   "cell_type": "code",
   "execution_count": 35,
   "id": "50fba7aa",
   "metadata": {},
   "outputs": [
    {
     "data": {
      "text/plain": [
       "2826.0"
      ]
     },
     "execution_count": 35,
     "metadata": {},
     "output_type": "execute_result"
    }
   ],
   "source": [
    "my_circle.area"
   ]
  },
  {
   "cell_type": "code",
   "execution_count": 28,
   "id": "a9549d14",
   "metadata": {},
   "outputs": [
    {
     "data": {
      "text/plain": [
       "3.14"
      ]
     },
     "execution_count": 28,
     "metadata": {},
     "output_type": "execute_result"
    }
   ],
   "source": [
    "my_circle.pi"
   ]
  },
  {
   "cell_type": "code",
   "execution_count": 29,
   "id": "c8792155",
   "metadata": {},
   "outputs": [
    {
     "data": {
      "text/plain": [
       "30"
      ]
     },
     "execution_count": 29,
     "metadata": {},
     "output_type": "execute_result"
    }
   ],
   "source": [
    "my_circle.radius"
   ]
  },
  {
   "cell_type": "code",
   "execution_count": 30,
   "id": "60143a5c",
   "metadata": {},
   "outputs": [
    {
     "data": {
      "text/plain": [
       "188.4"
      ]
     },
     "execution_count": 30,
     "metadata": {},
     "output_type": "execute_result"
    }
   ],
   "source": [
    "my_circle.get_circomference()"
   ]
  },
  {
   "cell_type": "markdown",
   "id": "89ca8f92",
   "metadata": {},
   "source": [
    "# Inheritance and Polymorphism"
   ]
  },
  {
   "cell_type": "code",
   "execution_count": 37,
   "id": "cc212f88",
   "metadata": {},
   "outputs": [],
   "source": [
    "class Animal():\n",
    "    def __init__(self):\n",
    "        print(\"ANIMAL CREATED\")#this function excutes when the function is excuted\n",
    "    def who_am_i(self):\n",
    "        print('I am an Animal');\n",
    "        \n",
    "    def eat(self):\n",
    "        print('I am eating')"
   ]
  },
  {
   "cell_type": "code",
   "execution_count": 39,
   "id": "3428a01d",
   "metadata": {},
   "outputs": [
    {
     "name": "stdout",
     "output_type": "stream",
     "text": [
      "ANIMAL CREATED\n"
     ]
    }
   ],
   "source": [
    "my_animal = Animal()"
   ]
  },
  {
   "cell_type": "markdown",
   "id": "f11b13c4",
   "metadata": {},
   "source": [
    "# Base Class and Deriving class: it's the class that inherit from the base class"
   ]
  },
  {
   "cell_type": "code",
   "execution_count": 49,
   "id": "79ab225e",
   "metadata": {},
   "outputs": [],
   "source": [
    "class Dog(Animal):\n",
    "    def __init__(self):\n",
    "        Animal.__init__(self);\n",
    "        print(\"Dog Created\");\n",
    "    def who_am_i(self):#this method inherited can be modified\n",
    "        print(\"I am a Dog\")\n",
    "    def bark(self):\n",
    "        print(\"WOOF!\")"
   ]
  },
  {
   "cell_type": "code",
   "execution_count": 50,
   "id": "0841bc7d",
   "metadata": {},
   "outputs": [
    {
     "name": "stdout",
     "output_type": "stream",
     "text": [
      "ANIMAL CREATED\n",
      "Dog Created\n"
     ]
    }
   ],
   "source": [
    "my_dog = Dog()"
   ]
  },
  {
   "cell_type": "code",
   "execution_count": 51,
   "id": "24212e22",
   "metadata": {},
   "outputs": [
    {
     "name": "stdout",
     "output_type": "stream",
     "text": [
      "I am a Dog\n"
     ]
    }
   ],
   "source": [
    "my_dog.who_am_i()"
   ]
  },
  {
   "cell_type": "code",
   "execution_count": 53,
   "id": "abdcb626",
   "metadata": {},
   "outputs": [
    {
     "name": "stdout",
     "output_type": "stream",
     "text": [
      "WOOF!\n"
     ]
    }
   ],
   "source": [
    "my_dog.bark()"
   ]
  },
  {
   "cell_type": "markdown",
   "id": "fc3eb819",
   "metadata": {},
   "source": [
    "# Polymorphism: is a way that different objects share the same method names"
   ]
  },
  {
   "cell_type": "code",
   "execution_count": 58,
   "id": "27297ee9",
   "metadata": {},
   "outputs": [],
   "source": [
    "class Dog():\n",
    "    def __init__(self,name):\n",
    "        self.name = name;\n",
    "    def speak(self):\n",
    "        return self.name + \" says Woof!\""
   ]
  },
  {
   "cell_type": "code",
   "execution_count": 59,
   "id": "88770dcf",
   "metadata": {},
   "outputs": [],
   "source": [
    "class Cat():\n",
    "    def __init__(self,name):\n",
    "        self.name = name;\n",
    "    def speak(self):\n",
    "        return self.name + \" says Meow!\""
   ]
  },
  {
   "cell_type": "code",
   "execution_count": 60,
   "id": "f865f7ea",
   "metadata": {},
   "outputs": [],
   "source": [
    "niko = Dog(\"Niko\");\n",
    "felix = Cat(\"Felix\");"
   ]
  },
  {
   "cell_type": "code",
   "execution_count": 61,
   "id": "4bb61194",
   "metadata": {},
   "outputs": [
    {
     "name": "stdout",
     "output_type": "stream",
     "text": [
      "Niko says Woof!\n"
     ]
    }
   ],
   "source": [
    "print(niko.speak())"
   ]
  },
  {
   "cell_type": "code",
   "execution_count": 66,
   "id": "474e5c53",
   "metadata": {},
   "outputs": [
    {
     "name": "stdout",
     "output_type": "stream",
     "text": [
      "Niko says Woof!\n",
      "<class '__main__.Cat'>\n",
      "Niko says Woof!\n",
      "<class '__main__.Cat'>\n"
     ]
    }
   ],
   "source": [
    "for pet in [niko, felix]:\n",
    "    print(niko.speak())\n",
    "    print(type(felix))"
   ]
  },
  {
   "cell_type": "code",
   "execution_count": 69,
   "id": "41370229",
   "metadata": {},
   "outputs": [],
   "source": [
    "def pet_speak(pet):\n",
    "    print(pet.speak())"
   ]
  },
  {
   "cell_type": "code",
   "execution_count": 70,
   "id": "ee26a265",
   "metadata": {},
   "outputs": [
    {
     "name": "stdout",
     "output_type": "stream",
     "text": [
      "Niko says Woof!\n"
     ]
    }
   ],
   "source": [
    "pet_speak(niko)"
   ]
  },
  {
   "cell_type": "code",
   "execution_count": 71,
   "id": "bcb6aae2",
   "metadata": {},
   "outputs": [],
   "source": [
    "class Animal():\n",
    "    def __init__(self, name):\n",
    "        self.name = name;\n",
    "        \n",
    "    def speak(self):\n",
    "        raise NotImplementedError(\"Subclass must implement this abstract class\")#The abstract method can not be executed by its own\n",
    "        #it requires a subclass to inherit and execute\n"
   ]
  },
  {
   "cell_type": "code",
   "execution_count": 72,
   "id": "ce67a635",
   "metadata": {},
   "outputs": [],
   "source": [
    "class Dog(Animal):\n",
    "    def speak(self):\n",
    "        return self.name +\" Says Woof!\";\n",
    "    "
   ]
  },
  {
   "cell_type": "code",
   "execution_count": null,
   "id": "b401f0ee",
   "metadata": {},
   "outputs": [],
   "source": [
    "class Cat(Animal):\n",
    "    def speak(self):\n",
    "        return self.name +\" Says Meow!\";\n",
    "    "
   ]
  },
  {
   "cell_type": "code",
   "execution_count": 75,
   "id": "145dc735",
   "metadata": {},
   "outputs": [],
   "source": [
    "fido = Dog(\"Fido\")"
   ]
  },
  {
   "cell_type": "code",
   "execution_count": 76,
   "id": "2a464c8f",
   "metadata": {},
   "outputs": [
    {
     "data": {
      "text/plain": [
       "'Fido says Woof!'"
      ]
     },
     "execution_count": 76,
     "metadata": {},
     "output_type": "execute_result"
    }
   ],
   "source": [
    "fido.speak()"
   ]
  },
  {
   "cell_type": "markdown",
   "id": "2b6ca034",
   "metadata": {},
   "source": [
    "# Special Methods or Dunder"
   ]
  },
  {
   "cell_type": "code",
   "execution_count": 115,
   "id": "ac2f462c",
   "metadata": {},
   "outputs": [],
   "source": [
    "class Book():\n",
    "    def __init__(self, title, author, pages):\n",
    "        self.title = title;\n",
    "        self.author = author;\n",
    "        self.pages = pages\n",
    "    def __str__(self):#All the elements in this function will be printed out \n",
    "        return f\"{self.title} by {self.author}\"\n",
    "    def __len__(self):\n",
    "        return self.pages\n",
    "    def __del__(self):\n",
    "        print(\"A Book's Object has been deleted!!\");"
   ]
  },
  {
   "cell_type": "code",
   "execution_count": 116,
   "id": "d0e21c98",
   "metadata": {},
   "outputs": [],
   "source": [
    "my_book = Book('Python Guru', 'Peter', 200)"
   ]
  },
  {
   "cell_type": "code",
   "execution_count": 117,
   "id": "9d7445a7",
   "metadata": {},
   "outputs": [
    {
     "name": "stdout",
     "output_type": "stream",
     "text": [
      "Python Guru by Peter\n"
     ]
    }
   ],
   "source": [
    "print(my_book)"
   ]
  },
  {
   "cell_type": "code",
   "execution_count": 118,
   "id": "bfebfe15",
   "metadata": {},
   "outputs": [
    {
     "data": {
      "text/plain": [
       "200"
      ]
     },
     "execution_count": 118,
     "metadata": {},
     "output_type": "execute_result"
    }
   ],
   "source": [
    "len(my_book)"
   ]
  },
  {
   "cell_type": "code",
   "execution_count": 119,
   "id": "91851780",
   "metadata": {},
   "outputs": [],
   "source": [
    "# del my_book #deletes the variables in computer memory"
   ]
  },
  {
   "cell_type": "code",
   "execution_count": 120,
   "id": "631d7334",
   "metadata": {},
   "outputs": [
    {
     "name": "stdout",
     "output_type": "stream",
     "text": [
      "Python Guru by Peter\n"
     ]
    }
   ],
   "source": [
    "print(my_book)"
   ]
  },
  {
   "cell_type": "code",
   "execution_count": 121,
   "id": "1778a5a2",
   "metadata": {},
   "outputs": [
    {
     "name": "stdout",
     "output_type": "stream",
     "text": [
      "A Book's Object has been deleted!!\n"
     ]
    }
   ],
   "source": [
    "del my_book"
   ]
  },
  {
   "cell_type": "markdown",
   "id": "4d98b5ff",
   "metadata": {},
   "source": [
    "# Class Homework"
   ]
  },
  {
   "cell_type": "markdown",
   "id": "4f6ab4c5",
   "metadata": {},
   "source": [
    "# HomeWork 1 - Slope and distance of coordinates"
   ]
  },
  {
   "cell_type": "code",
   "execution_count": 176,
   "id": "9eca7f38",
   "metadata": {},
   "outputs": [],
   "source": [
    "from math import sqrt\n",
    "class Line():\n",
    "    def __init__(self,coordinate1, coordinate2):\n",
    "        self.coordinate1 = coordinate1;\n",
    "        self.coordinate2 = coordinate2;\n",
    "\n",
    "\n",
    "    def distance(self):\n",
    "        '''\n",
    "         coordinate(x1, y1)\n",
    "         coordinate(x2, y2)\n",
    "         x1, y1 = coordinate1\n",
    "         x2, y2 = coordinate2\n",
    "        '''\n",
    "#         x = (self.coordinate2[0]-self.coordinate1[0])**2 + (self.coordinate2[1]-self.coordinate1[1])**2;\n",
    "#         distance = x**0.5\n",
    "#         print(distance)\n",
    "#         OR\n",
    "        x1, y1 = self.coordinate1\n",
    "        x2, y2 = self.coordinate2\n",
    "        return ((x2-x1)**2 + (y2-y1)**2)**0.5\n",
    "    def slope(self):\n",
    "#         return (self.coordinate2[0]-self.coordinate1[0])/(self.coordinate2[1]-self.coordinate1[1])\n",
    "        x1, y1 = self.coordinate1\n",
    "        x2, y2 = self.coordinate2\n",
    "        return ((y2-y1)/(x2-x1))\n",
    "        "
   ]
  },
  {
   "cell_type": "code",
   "execution_count": 177,
   "id": "b593af2a",
   "metadata": {},
   "outputs": [
    {
     "data": {
      "text/plain": [
       "9.433981132056603"
      ]
     },
     "execution_count": 177,
     "metadata": {},
     "output_type": "execute_result"
    }
   ],
   "source": [
    "coordinate1 = (3,2)\n",
    "coordinate2 = (8,10)\n",
    "dist = Line(coordinate1,coordinate2)\n",
    "dist.distance()"
   ]
  },
  {
   "cell_type": "code",
   "execution_count": 178,
   "id": "a56bf60e",
   "metadata": {},
   "outputs": [
    {
     "data": {
      "text/plain": [
       "1.6"
      ]
     },
     "execution_count": 178,
     "metadata": {},
     "output_type": "execute_result"
    }
   ],
   "source": [
    "dist.slope()"
   ]
  },
  {
   "cell_type": "code",
   "execution_count": null,
   "id": "51352ceb",
   "metadata": {},
   "outputs": [],
   "source": []
  },
  {
   "cell_type": "code",
   "execution_count": null,
   "id": "1963564e",
   "metadata": {},
   "outputs": [],
   "source": []
  },
  {
   "cell_type": "markdown",
   "id": "4964bc31",
   "metadata": {},
   "source": [
    "# HomeWork 2 Bank Account"
   ]
  },
  {
   "cell_type": "code",
   "execution_count": 188,
   "id": "b558c924",
   "metadata": {},
   "outputs": [],
   "source": [
    "class Bank():\n",
    "    def __init__(self, owner, balance=0):\n",
    "        self.owner = owner;\n",
    "        self.balance = balance;\n",
    "        \n",
    "    def deposit(self, amount):\n",
    "        self.balance += amount;\n",
    "        print(f\"Deposit of {amount}$, recorded successfully\");\n",
    "        \n",
    "    def withdraw(self, with_amount):\n",
    "        if self.balance >= with_amount:\n",
    "            self.balance = self.balance - with_amount;\n",
    "            print(f\"{with_amount}$ was withdrawn successfully!!\")\n",
    "        else:\n",
    "            print(\"Your current balance is not enough to complete the operation\");\n",
    "            print(f\"Current Balance = {self.balance}\")\n",
    "            \n",
    "    def __str__(self):\n",
    "        return f\"Owner: {self.owner}\\nBalance: {self.balance}\""
   ]
  },
  {
   "cell_type": "code",
   "execution_count": 189,
   "id": "3fd915fb",
   "metadata": {},
   "outputs": [],
   "source": [
    "my_bank_account = Bank('Peter',300)"
   ]
  },
  {
   "cell_type": "code",
   "execution_count": 192,
   "id": "ea14800c",
   "metadata": {},
   "outputs": [
    {
     "name": "stdout",
     "output_type": "stream",
     "text": [
      "Owner: Peter\n",
      "Balance: 700\n"
     ]
    }
   ],
   "source": [
    "print(my_bank_account)"
   ]
  },
  {
   "cell_type": "code",
   "execution_count": 191,
   "id": "3ca0a06c",
   "metadata": {},
   "outputs": [
    {
     "name": "stdout",
     "output_type": "stream",
     "text": [
      "Deposit of 400$, recorded successfully\n"
     ]
    }
   ],
   "source": [
    "my_bank_account.deposit(400)"
   ]
  },
  {
   "cell_type": "code",
   "execution_count": 193,
   "id": "a0a63b21",
   "metadata": {},
   "outputs": [
    {
     "name": "stdout",
     "output_type": "stream",
     "text": [
      "200$ was withdrawn successfully!!\n"
     ]
    }
   ],
   "source": [
    "my_bank_account.withdraw(200)"
   ]
  },
  {
   "cell_type": "code",
   "execution_count": 194,
   "id": "1026a104",
   "metadata": {},
   "outputs": [
    {
     "name": "stdout",
     "output_type": "stream",
     "text": [
      "Owner: Peter\n",
      "Balance: 500\n"
     ]
    }
   ],
   "source": [
    "print(my_bank_account)"
   ]
  },
  {
   "cell_type": "markdown",
   "id": "a7766499",
   "metadata": {},
   "source": [
    "# CARD WAR\n",
    "\n",
    "# CARD"
   ]
  },
  {
   "cell_type": "code",
   "execution_count": 3,
   "id": "3d879477",
   "metadata": {},
   "outputs": [],
   "source": [
    "import random\n",
    "\n",
    "rank = ('Two', 'Three','Four', 'Five', 'Six', 'Seven', 'Eight', 'Nine', 'Ten', 'Jack', 'Queen', 'King', 'Ace');\n",
    "values = {'Two':2, 'Three':3, 'Four':4, 'Five':5, 'Six':6, 'Seven':7, 'Eight':8, 'Nine':9, 'Ten':10, 'Jack':11, 'Queen':12, 'King':13, 'Ace':13};\n",
    "suit = ('Spade', 'Heart', 'Clubs', 'Diamond');\n",
    "\n",
    "class Card:\n",
    "    def __init__(self, rank, suit):\n",
    "        self.rank = rank;\n",
    "        self.suit = suit;\n",
    "        self.value = values[rank]#the value helps us to compare the elements of the rank because we cannot compare strings\n",
    "        \n",
    "    def __str__(self):\n",
    "        return f\"{self.rank} of {self.suit}\""
   ]
  },
  {
   "cell_type": "code",
   "execution_count": 123,
   "id": "9a9accc9",
   "metadata": {},
   "outputs": [],
   "source": [
    "my_card = Card('Two','Heart')"
   ]
  },
  {
   "cell_type": "code",
   "execution_count": 124,
   "id": "9f289f70",
   "metadata": {},
   "outputs": [
    {
     "data": {
      "text/plain": [
       "'Two'"
      ]
     },
     "execution_count": 124,
     "metadata": {},
     "output_type": "execute_result"
    }
   ],
   "source": [
    "my_card.rank"
   ]
  },
  {
   "cell_type": "code",
   "execution_count": 125,
   "id": "81f311e7",
   "metadata": {},
   "outputs": [
    {
     "data": {
      "text/plain": [
       "2"
      ]
     },
     "execution_count": 125,
     "metadata": {},
     "output_type": "execute_result"
    }
   ],
   "source": [
    "my_card.value"
   ]
  },
  {
   "cell_type": "code",
   "execution_count": 126,
   "id": "ab037513",
   "metadata": {},
   "outputs": [
    {
     "name": "stdout",
     "output_type": "stream",
     "text": [
      "Two of Heart\n"
     ]
    }
   ],
   "source": [
    "print(my_card)"
   ]
  },
  {
   "cell_type": "markdown",
   "id": "0db1168f",
   "metadata": {},
   "source": [
    "# Deck"
   ]
  },
  {
   "cell_type": "code",
   "execution_count": 4,
   "id": "e988fc0b",
   "metadata": {},
   "outputs": [],
   "source": [
    "class Deck:\n",
    "    def __init__(self):\n",
    "        self.all_cards = []#empty list to store the 52cards\n",
    "        '''These loops combines suit and rank E.g.: Ace of Diamond'''\n",
    "        for suits in suit:#go through the suit\n",
    "            for ranks in rank:#go through the rank\n",
    "                created_cards = Card(ranks, suits)# a cards has a rank(Diamond, Clubs,..) and suit(Two, three,...)\n",
    "                self.all_cards.append(created_cards)\n",
    "    def shuffle(self):\n",
    "        random.shuffle(self.all_cards)\n",
    "        \n",
    "    def deal_one(self):\n",
    "        return self.all_cards.pop()\n",
    "            "
   ]
  },
  {
   "cell_type": "code",
   "execution_count": 5,
   "id": "2c231462",
   "metadata": {},
   "outputs": [],
   "source": [
    "class Player:\n",
    "    def __init__(self, name):\n",
    "        self.name = name;\n",
    "        self.all_cards = []\n",
    "    def remove_one(self):\n",
    "        return self.all_cards.pop(0)\n",
    "    def add_card(self, new_card):\n",
    "        if type(new_card) == type([]):#if it's more than 1 card i.e it's a list\n",
    "            self.all_cards.extend(new_card)\n",
    "        else:#if it's an individual cars\n",
    "            self.all_cards.append(new_card)\n",
    "    def __str__(self):\n",
    "        return f'Player {self.name} has {(len(self.all_cards))} card(s)';"
   ]
  },
  {
   "cell_type": "code",
   "execution_count": null,
   "id": "af78c44f",
   "metadata": {},
   "outputs": [],
   "source": []
  },
  {
   "cell_type": "code",
   "execution_count": 6,
   "id": "506c8af8",
   "metadata": {},
   "outputs": [],
   "source": [
    "#GAME SETUP\n",
    "player_one = Player('One')\n",
    "player_two = Player('Two')\n",
    "new_deck = Deck()\n",
    "new_deck.shuffle()\n",
    "for x in range(26):\n",
    "    player_one.add_card(new_deck.deal_one())\n",
    "    player_two.add_card(new_deck.deal_one())"
   ]
  },
  {
   "cell_type": "code",
   "execution_count": 7,
   "id": "f9635949",
   "metadata": {},
   "outputs": [],
   "source": [
    "game_on = True"
   ]
  },
  {
   "cell_type": "code",
   "execution_count": 8,
   "id": "b7e0215d",
   "metadata": {},
   "outputs": [
    {
     "name": "stdout",
     "output_type": "stream",
     "text": [
      "Round:1\n",
      "Round:2\n",
      "Round:3\n",
      "Round:4\n",
      "Round:5\n",
      "Round:6\n",
      "Round:7\n",
      "Round:8\n",
      "Round:9\n",
      "Round:10\n",
      "Round:11\n",
      "Round:12\n",
      "Round:13\n",
      "Round:14\n",
      "Round:15\n",
      "Round:16\n",
      "Round:17\n",
      "Round:18\n",
      "Round:19\n",
      "Round:20\n",
      "Round:21\n",
      "Round:22\n",
      "Round:23\n",
      "Round:24\n",
      "WAR!\n",
      "Round:25\n",
      "Round:26\n",
      "Round:27\n",
      "Round:28\n",
      "Round:29\n",
      "Round:30\n",
      "Round:31\n",
      "Round:32\n",
      "Round:33\n",
      "Round:34\n",
      "Round:35\n",
      "Round:36\n",
      "Round:37\n",
      "Round:38\n",
      "Round:39\n",
      "Round:40\n",
      "Round:41\n",
      "Round:42\n",
      "Round:43\n",
      "Round:44\n",
      "Round:45\n",
      "Round:46\n",
      "Round:47\n",
      "Round:48\n",
      "Round:49\n",
      "WAR!\n",
      "Round:50\n",
      "Round:51\n",
      "Round:52\n",
      "WAR!\n",
      "Round:53\n",
      "Round:54\n",
      "Round:55\n",
      "Round:56\n",
      "Round:57\n",
      "Round:58\n",
      "Round:59\n",
      "Round:60\n",
      "Round:61\n",
      "Round:62\n",
      "Round:63\n",
      "Round:64\n",
      "Round:65\n",
      "Round:66\n",
      "Round:67\n",
      "Round:68\n",
      "Round:69\n",
      "Round:70\n",
      "Round:71\n",
      "Round:72\n",
      "Round:73\n",
      "WAR!\n",
      "Round:74\n",
      "Round:75\n",
      "Round:76\n",
      "Round:77\n",
      "Round:78\n",
      "Round:79\n",
      "Round:80\n",
      "Round:81\n",
      "Round:82\n",
      "Round:83\n",
      "Round:84\n",
      "Round:85\n",
      "WAR!\n",
      "Player Two unable to play the War!Game Over\n",
      "PLAYER ONE WINS\n"
     ]
    }
   ],
   "source": [
    "#while game_on\n",
    "round_num = 0\n",
    "while game_on:\n",
    "    round_num +=1\n",
    "    print(f\"Round:{round_num}\")\n",
    "    \n",
    "    if len(player_one.all_cards) == 0:\n",
    "        print(\"Player One out of cards! Player Two wins\")\n",
    "        game_on = False;\n",
    "        break\n",
    "\n",
    "    if len(player_two.all_cards) == 0:\n",
    "        print(\"Player Two out of cards! Player One wins\")\n",
    "        game_on = False;\n",
    "        break\n",
    "        \n",
    "# START A NEW ROUND\n",
    "    player_one_cards = [] #this is the list that stores the cards that player one plays on the table\n",
    "    player_one_cards.append(player_one.remove_one())\n",
    "    \n",
    "    player_two_cards = [] #this is the list that stores the cards that player two plays on the table\n",
    "    player_two_cards.append(player_two.remove_one())\n",
    "    \n",
    "\n",
    "    #while game_at_war\n",
    "    at_war = True\n",
    "    while at_war:\n",
    "        if player_one_cards[-1].value > player_two_cards[-1].value:#player_one_cards[-1], it takes the last element of the list of cards\n",
    "            player_one.add_card(player_one_cards)#player_one take back his/her cards\n",
    "            player_one.add_card(player_two_cards)#add also the player_two cards\n",
    "            at_war = False\n",
    "            \n",
    "        elif player_one_cards[-1].value < player_two_cards[-1].value:\n",
    "            player_two.add_card(player_one_cards)\n",
    "            player_two.add_card(player_two_cards)\n",
    "            at_war = False\n",
    "            \n",
    "        else:\n",
    "            print(\"WAR!\")\n",
    "            if len(player_one.all_cards)<5:#if the player has less than 5 cards \n",
    "                print(\"Player One unable to play the War!Game Over\")\n",
    "                print(\"PLAYER TWO WINS\")\n",
    "                game_on = False;\n",
    "                break\n",
    "                \n",
    "            elif len(player_two.all_cards)<5:\n",
    "                print(\"Player Two unable to play the War!Game Over\")\n",
    "                print(\"PLAYER ONE WINS\")\n",
    "                game_on = False; #break the first while loop\n",
    "                break # Breaks the while at_war\n",
    "                \n",
    "            else:\n",
    "                \n",
    "                for num in range(5):#if the players have more than 5 cards\n",
    "                    player_one_cards.append(player_one.remove_one()) #remove 5 cards from the player one's Deck\n",
    "                    player_two_cards.append(player_two.remove_one()) #remove 5 cards from the player two's Deck                   "
   ]
  },
  {
   "cell_type": "code",
   "execution_count": 133,
   "id": "ac01aa3b",
   "metadata": {},
   "outputs": [
    {
     "data": {
      "text/plain": [
       "2"
      ]
     },
     "execution_count": 133,
     "metadata": {},
     "output_type": "execute_result"
    }
   ],
   "source": [
    "len(player_one.all_cards)"
   ]
  },
  {
   "cell_type": "code",
   "execution_count": null,
   "id": "baf95a83",
   "metadata": {},
   "outputs": [],
   "source": []
  },
  {
   "cell_type": "code",
   "execution_count": null,
   "id": "5e76fa61",
   "metadata": {},
   "outputs": [],
   "source": []
  },
  {
   "cell_type": "code",
   "execution_count": 134,
   "id": "8497db37",
   "metadata": {},
   "outputs": [],
   "source": [
    "new_player = Player('Peter')"
   ]
  },
  {
   "cell_type": "code",
   "execution_count": 135,
   "id": "829658c8",
   "metadata": {},
   "outputs": [
    {
     "name": "stdout",
     "output_type": "stream",
     "text": [
      "Player Peter has 0 card(s)\n"
     ]
    }
   ],
   "source": [
    "print(new_player)"
   ]
  },
  {
   "cell_type": "code",
   "execution_count": 136,
   "id": "fcb492ea",
   "metadata": {},
   "outputs": [],
   "source": [
    "new_deck = Deck()"
   ]
  },
  {
   "cell_type": "code",
   "execution_count": 137,
   "id": "8c88fcd9",
   "metadata": {},
   "outputs": [
    {
     "name": "stdout",
     "output_type": "stream",
     "text": [
      "Ace of Diamond\n"
     ]
    }
   ],
   "source": [
    "print(new_deck.all_cards[-1])"
   ]
  },
  {
   "cell_type": "code",
   "execution_count": 138,
   "id": "51bcd7f0",
   "metadata": {},
   "outputs": [],
   "source": [
    "new_deck.shuffle()"
   ]
  },
  {
   "cell_type": "code",
   "execution_count": null,
   "id": "79218624",
   "metadata": {},
   "outputs": [],
   "source": []
  }
 ],
 "metadata": {
  "kernelspec": {
   "display_name": "Python 3 (ipykernel)",
   "language": "python",
   "name": "python3"
  },
  "language_info": {
   "codemirror_mode": {
    "name": "ipython",
    "version": 3
   },
   "file_extension": ".py",
   "mimetype": "text/x-python",
   "name": "python",
   "nbconvert_exporter": "python",
   "pygments_lexer": "ipython3",
   "version": "3.9.12"
  }
 },
 "nbformat": 4,
 "nbformat_minor": 5
}
