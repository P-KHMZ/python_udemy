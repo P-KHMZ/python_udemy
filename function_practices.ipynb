{
 "cells": [
  {
   "cell_type": "markdown",
   "id": "2755299c",
   "metadata": {},
   "source": [
    "# Function practice 1"
   ]
  },
  {
   "cell_type": "code",
   "execution_count": 4,
   "id": "7e60aa52",
   "metadata": {},
   "outputs": [
    {
     "name": "stdout",
     "output_type": "stream",
     "text": [
      "Choose among 0, 1, 2\n",
      "2\n",
      "Oops Wrong guess!\n",
      "['O', ' ', ' ']\n"
     ]
    }
   ],
   "source": [
    "from random import shuffle\n",
    "def shuffle_list(my_list):\n",
    "    shuffle(my_list);\n",
    "    return my_list\n",
    "my_list = [' ', 'O', ' ']\n",
    "\n",
    "def player_guess():\n",
    "    guess = '';\n",
    "    while guess not in ['0','1','2']:\n",
    "        guess = input('Choose among 0, 1, 2\\n');\n",
    "    return int(guess)\n",
    "\n",
    "def check_mylist(my_list, guess):\n",
    "    if my_list[guess] == 'O':\n",
    "        print('Correct Guess');\n",
    "    else:\n",
    "        print('Oops Wrong guess!');\n",
    "        print(my_list);\n",
    "        \n",
    "#INITIAL LIST\n",
    "my_lsit = [' ', 'O', ' '];\n",
    "\n",
    "#SHUFFLE LIST\n",
    "mixedup_list = shuffle_list(my_list);\n",
    "\n",
    "#PLAYER GUESS\n",
    "player_random_guess = player_guess();\n",
    "\n",
    "#CHECK GUESS\n",
    "check_mylist(mixedup_list, player_random_guess);"
   ]
  },
  {
   "cell_type": "raw",
   "id": "a7b7829b",
   "metadata": {},
   "source": [
    "*args and **kwargs\n",
    "-------------------\n",
    "*args:it returns a tuple of value, it allows a function to accept an arbitrary number of arguments\n",
    "**kwargs: it returns a dictionary of key-value pairs, it also allows a function to accept an arbitrary number of key-word argumens"
   ]
  },
  {
   "cell_type": "code",
   "execution_count": 11,
   "id": "019f2b3d",
   "metadata": {},
   "outputs": [
    {
     "name": "stdout",
     "output_type": "stream",
     "text": [
      "40\n",
      "70\n",
      "89\n",
      "100\n"
     ]
    }
   ],
   "source": [
    "def my_func(*args):\n",
    "#     return sum(args)*0.05\n",
    "    for items in args:\n",
    "        print(items)\n",
    "my_func(40, 70, 89, 100)"
   ]
  },
  {
   "cell_type": "code",
   "execution_count": 14,
   "id": "b75f5270",
   "metadata": {},
   "outputs": [
    {
     "name": "stdout",
     "output_type": "stream",
     "text": [
      "{'fruit': 'Orange', 'veggie': 'lettuce'}\n",
      "My favorite fruit is Orange\n"
     ]
    }
   ],
   "source": [
    "def myfunc(**kwargs):\n",
    "    print(kwargs)#it shows the arguments that will be printed out as a dictionary\n",
    "    if 'fruit' in kwargs:\n",
    "        print('My favorite fruit is {}'.format(kwargs['fruit']))\n",
    "    else:\n",
    "        print('I do not find any fruit here :(')\n",
    "myfunc(fruit = 'Orange', veggie = 'lettuce')#you can add other arguments and no error will be reported"
   ]
  },
  {
   "cell_type": "code",
   "execution_count": 18,
   "id": "fb269f4b",
   "metadata": {},
   "outputs": [
    {
     "name": "stdout",
     "output_type": "stream",
     "text": [
      "(10, 40, 70)\n",
      "{'Animal': 'Cheetah', 'Fruit': 'Pinapple', 'Food': 'Eggs', 'Veggie': 'Lettuce'}\n",
      "I would like 10 Pinapple(s) \n"
     ]
    }
   ],
   "source": [
    "def myfunc(*args, **kwargs):\n",
    "    print(args);\n",
    "    print(kwargs);\n",
    "    print('I would like {} {}(s) '.format(args[0], kwargs ['Fruit']))\n",
    "myfunc(10, 40, 70, Animal = 'Cheetah', Fruit='Pinapple', Food = 'Eggs', Veggie='Lettuce')"
   ]
  },
  {
   "cell_type": "code",
   "execution_count": 30,
   "id": "0d834d61",
   "metadata": {},
   "outputs": [
    {
     "name": "stdout",
     "output_type": "stream",
     "text": [
      "2\n",
      "4\n"
     ]
    }
   ],
   "source": [
    "def myfunc(*args):\n",
    "    for items in args:\n",
    "#         print(items)\n",
    "        if items%2 == 0:\n",
    "            print(items)\n",
    "myfunc(1,2,3,4)"
   ]
  },
  {
   "cell_type": "code",
   "execution_count": null,
   "id": "6649b8e2",
   "metadata": {},
   "outputs": [],
   "source": []
  },
  {
   "cell_type": "code",
   "execution_count": 39,
   "id": "77e98149",
   "metadata": {},
   "outputs": [
    {
     "data": {
      "text/plain": [
       "'lA'"
      ]
     },
     "execution_count": 39,
     "metadata": {},
     "output_type": "execute_result"
    }
   ],
   "source": [
    "def myfunc(string_in):\n",
    "    string_out = []\n",
    "    for i in range(len(string_in)):\n",
    "        if i%2==1:#Note: the index[i] starts from 0\n",
    "            string_out.append(string_in[i].upper())\n",
    "        else:\n",
    "            string_out.append(string_in[i].lower())\n",
    "    return ''.join(string_out)\n",
    "myfunc('LA')"
   ]
  },
  {
   "cell_type": "code",
   "execution_count": 79,
   "id": "57b97a81",
   "metadata": {},
   "outputs": [
    {
     "name": "stdout",
     "output_type": "stream",
     "text": [
      "The lesser even is 4\n"
     ]
    }
   ],
   "source": [
    "def myfunc(a,b):\n",
    "    if a%2==0 and b%2 ==0:\n",
    "#         if a<b:\n",
    "#             print('The lesser even is {}'.format(int(a)))\n",
    "#         else:\n",
    "#             print('The lesser even is {}'.format(int(b)))\n",
    "        print('The lesser even is {}'.format(min(a,b)))\n",
    "    elif a%2==1 and b%2 ==1:\n",
    "        if a<b:\n",
    "#             print('The Greater odd is {}'.format(int(b)))\n",
    "#         else:\n",
    "#             print('The Greater odd is {}'.format(int(a)))\n",
    "            print('The Greater odd is {}'.format(max(a,b)))\n",
    "    else:\n",
    "        print('Oops!Something is wrong in your codes\\nCheck your entries')\n",
    "myfunc(4,6)"
   ]
  },
  {
   "cell_type": "code",
   "execution_count": 45,
   "id": "00701021",
   "metadata": {},
   "outputs": [],
   "source": [
    "def myfunc(x,y):\n",
    "    if x[0]==y[0]:\n",
    "        return True\n",
    "myfunc('Magos', 'Londre')\n",
    "    "
   ]
  },
  {
   "cell_type": "markdown",
   "id": "d6359f7d",
   "metadata": {},
   "source": [
    "# OR"
   ]
  },
  {
   "cell_type": "code",
   "execution_count": 76,
   "id": "e3048b66",
   "metadata": {},
   "outputs": [
    {
     "data": {
      "text/plain": [
       "False"
      ]
     },
     "execution_count": 76,
     "metadata": {},
     "output_type": "execute_result"
    }
   ],
   "source": [
    "def myfunc(x):\n",
    "    y = x.split();\n",
    "    if y[0][0]==y[1][0]:\n",
    "        return True\n",
    "    return False\n",
    "#     print(y[1][0])\n",
    "myfunc('Hey Guys')"
   ]
  },
  {
   "cell_type": "code",
   "execution_count": 57,
   "id": "4794914a",
   "metadata": {},
   "outputs": [
    {
     "data": {
      "text/plain": [
       "True"
      ]
     },
     "execution_count": 57,
     "metadata": {},
     "output_type": "execute_result"
    }
   ],
   "source": [
    "def spy_game(num):\n",
    "    code = [0,0,7,'x']\n",
    "    for nums in num:\n",
    "        if nums == code[0]:\n",
    "            code.pop(0);#The .pop() function removes the element at the specified index of a list\n",
    "    return len(code) == 1\n",
    "spy_game([1,2,3,0,0,8,9,7])     "
   ]
  },
  {
   "cell_type": "code",
   "execution_count": 61,
   "id": "e4c431b3",
   "metadata": {},
   "outputs": [
    {
     "data": {
      "text/plain": [
       "True"
      ]
     },
     "execution_count": 61,
     "metadata": {},
     "output_type": "execute_result"
    }
   ],
   "source": [
    "spy_game([1,0,0,7])"
   ]
  },
  {
   "cell_type": "markdown",
   "id": "46448256",
   "metadata": {},
   "source": [
    "# Count the prime numbers in a given number"
   ]
  },
  {
   "cell_type": "code",
   "execution_count": 80,
   "id": "fe5a988f",
   "metadata": {},
   "outputs": [
    {
     "name": "stdout",
     "output_type": "stream",
     "text": [
      "Available Themes: \n",
      "   chesterish\n",
      "   grade3\n",
      "   gruvboxd\n",
      "   gruvboxl\n",
      "   monokai\n",
      "   oceans16\n",
      "   onedork\n",
      "   solarizedd\n",
      "   solarizedl\n"
     ]
    }
   ],
   "source": [
    "!jt -l"
   ]
  },
  {
   "cell_type": "code",
   "execution_count": 84,
   "id": "378e7f25",
   "metadata": {},
   "outputs": [],
   "source": [
    "!jt -t chesterish"
   ]
  },
  {
   "cell_type": "code",
   "execution_count": 11,
   "id": "9e6f334c",
   "metadata": {},
   "outputs": [],
   "source": [
    "def count_prime(num):\n",
    "    #check for 0 and 1\n",
    "    if num<2:\n",
    "        return 0;\n",
    "    #2 or Greater\n",
    "    primes = [2]#this is the list of all the primes numbers starting from 2\n",
    "    x = 3 #this is the counter from 3 and goes up to the given number\n",
    "    while x<=num:\n",
    "        #check if x is prime\n",
    "        #for y in range(3, x, 2):#y goes in range 3 up to x and step 2\n",
    "        for y in primes:\n",
    "            if x%y==0:\n",
    "                x+=2\n",
    "                break;\n",
    "        else:#When there's a break in a condition the else goes one step backward to the if\n",
    "            primes.append(x);\n",
    "            x+=2\n",
    "    print(primes)\n",
    "    return len(primes)"
   ]
  },
  {
   "cell_type": "code",
   "execution_count": 12,
   "id": "bb38601e",
   "metadata": {},
   "outputs": [
    {
     "name": "stdout",
     "output_type": "stream",
     "text": [
      "[2, 3, 5, 7]\n"
     ]
    },
    {
     "data": {
      "text/plain": [
       "4"
      ]
     },
     "execution_count": 12,
     "metadata": {},
     "output_type": "execute_result"
    }
   ],
   "source": [
    "count_prime(10)"
   ]
  },
  {
   "cell_type": "markdown",
   "id": "11415745",
   "metadata": {},
   "source": [
    "# For fun"
   ]
  },
  {
   "cell_type": "code",
   "execution_count": 24,
   "id": "1d5f1fb6",
   "metadata": {},
   "outputs": [],
   "source": [
    "def print_big(letter):\n",
    "    patterns = {1:'  *  ', 2:' * * ', 3:'*   *', 4:'*****', 5:'**** ', 6:'  *', 7:' *  ', 8:'*  *', 9:'*  '}\n",
    "    alphabet = {'A':[1,2,4,3,3], 'B':[5,3,5,3,5], 'C':[4,9,9,9,4], 'D':[5,3,3,3,5], 'E':[4,9,4,9,4], 'F':[4,9,4,9,9]}\n",
    "    for pattern in alphabet[letter.upper()]:\n",
    "        print(patterns[pattern])"
   ]
  },
  {
   "cell_type": "code",
   "execution_count": 25,
   "id": "9ef4fcd3",
   "metadata": {},
   "outputs": [
    {
     "name": "stdout",
     "output_type": "stream",
     "text": [
      "*****\n",
      "*  \n",
      "*****\n",
      "*  \n",
      "*  \n"
     ]
    }
   ],
   "source": [
    "print_big('f')"
   ]
  },
  {
   "cell_type": "markdown",
   "id": "7bef6574",
   "metadata": {},
   "source": [
    "# Methods and Functions Homework"
   ]
  },
  {
   "cell_type": "code",
   "execution_count": 51,
   "id": "4215d420",
   "metadata": {},
   "outputs": [],
   "source": [
    "# A function that computes the volume of a sphere\n",
    "def volume(rad):\n",
    "    vol = (4/3)*(3.14*(rad**3))\n",
    "    return vol"
   ]
  },
  {
   "cell_type": "code",
   "execution_count": 52,
   "id": "a318097e",
   "metadata": {},
   "outputs": [
    {
     "data": {
      "text/plain": [
       "33.49333333333333"
      ]
     },
     "execution_count": 52,
     "metadata": {},
     "output_type": "execute_result"
    }
   ],
   "source": [
    "volume(2)"
   ]
  },
  {
   "cell_type": "code",
   "execution_count": 57,
   "id": "69ad1d66",
   "metadata": {},
   "outputs": [],
   "source": [
    "#A function to return whether a given number is in a certain range\n",
    "def ran_check(num, low, high):\n",
    "    if num in range(low,high+1):\n",
    "        result= print('{} is in range {} - {}'.format(num, low, high))\n",
    "    else:\n",
    "        result= print('{} is not in range {} - {}'.format(num, low, high))\n",
    "    return result"
   ]
  },
  {
   "cell_type": "code",
   "execution_count": 58,
   "id": "26dba4a0",
   "metadata": {},
   "outputs": [
    {
     "name": "stdout",
     "output_type": "stream",
     "text": [
      "11 is not in range 3 - 10\n"
     ]
    }
   ],
   "source": [
    "ran_check(11,3,10)"
   ]
  },
  {
   "cell_type": "code",
   "execution_count": 59,
   "id": "14e6c83a",
   "metadata": {},
   "outputs": [],
   "source": [
    "def ran_check(num, low, high):\n",
    "    if num in range(low,high+1):\n",
    "        return True\n",
    "    return False"
   ]
  },
  {
   "cell_type": "code",
   "execution_count": 61,
   "id": "a960c580",
   "metadata": {},
   "outputs": [
    {
     "data": {
      "text/plain": [
       "True"
      ]
     },
     "execution_count": 61,
     "metadata": {},
     "output_type": "execute_result"
    }
   ],
   "source": [
    "ran_check(4,3,10)"
   ]
  },
  {
   "cell_type": "code",
   "execution_count": 143,
   "id": "356980a7",
   "metadata": {},
   "outputs": [],
   "source": [
    "#A function that calculate the number of caps and lower in a given string\n",
    "def up_low(s):\n",
    "    d = {'uppercase':0, 'lowercase':0}\n",
    "#     uppercase = 0;\n",
    "#     lowercase = 0;\n",
    "    for char in s:\n",
    "        if char.isupper():\n",
    "#             uppercase +=1;\n",
    "            d['uppercase'] += 1;\n",
    "        elif char.islower():\n",
    "#             lowercase +=1;\n",
    "            d['lowercase'] += 1;\n",
    "        else:\n",
    "            pass#this is for punction marks\n",
    "    print(f\"Original string: {s}\");\n",
    "#     print(f\"Uppercase: {uppercase}\");\n",
    "    print(f\"Uppercase: {d['uppercase']}\");\n",
    "#     print(f\"Lowercase: {lowercase}\");\n",
    "    print(f\"Uppercase: {d['lowercase']}\");\n",
    "        \n",
    "        "
   ]
  },
  {
   "cell_type": "code",
   "execution_count": 144,
   "id": "23f261d6",
   "metadata": {},
   "outputs": [
    {
     "name": "stdout",
     "output_type": "stream",
     "text": [
      "Original string: Hi\n",
      "Uppercase: 1\n",
      "Uppercase: 1\n"
     ]
    }
   ],
   "source": [
    "up_low('Hi')"
   ]
  },
  {
   "cell_type": "code",
   "execution_count": 145,
   "id": "3f3d1389",
   "metadata": {},
   "outputs": [],
   "source": [
    "#A function that takes in a list and return a new list of unique element\n",
    "def unique_list(lst):\n",
    "    result = list(set(lst))\n",
    "    return result"
   ]
  },
  {
   "cell_type": "markdown",
   "id": "46326c2d",
   "metadata": {},
   "source": [
    "# Or"
   ]
  },
  {
   "cell_type": "code",
   "execution_count": 151,
   "id": "3668480e",
   "metadata": {},
   "outputs": [],
   "source": [
    "def unique_list(lst):\n",
    "    seen_num = [];\n",
    "    for num in lst:\n",
    "        if num not in seen_num:\n",
    "            seen_num.append(num);\n",
    "        else:\n",
    "            pass\n",
    "    return seen_num"
   ]
  },
  {
   "cell_type": "code",
   "execution_count": 152,
   "id": "b4cc5c72",
   "metadata": {},
   "outputs": [
    {
     "data": {
      "text/plain": [
       "[1, 2, 3, 4, 5, 6]"
      ]
     },
     "execution_count": 152,
     "metadata": {},
     "output_type": "execute_result"
    }
   ],
   "source": [
    "unique_list([1,1,2,2,2,3,4,4,5,5,6])"
   ]
  },
  {
   "cell_type": "code",
   "execution_count": 81,
   "id": "55a6e223",
   "metadata": {},
   "outputs": [],
   "source": [
    "#A function that multiplies all the element of a list\n",
    "def multiply(numbers):\n",
    "    result = 1\n",
    "    for item in numbers:\n",
    "        result *=item\n",
    "    return result"
   ]
  },
  {
   "cell_type": "code",
   "execution_count": 82,
   "id": "4aeed215",
   "metadata": {},
   "outputs": [
    {
     "data": {
      "text/plain": [
       "720"
      ]
     },
     "execution_count": 82,
     "metadata": {},
     "output_type": "execute_result"
    }
   ],
   "source": [
    "multiply([1,2,3,4,5,6])"
   ]
  },
  {
   "cell_type": "code",
   "execution_count": 162,
   "id": "f0ab23f8",
   "metadata": {},
   "outputs": [],
   "source": [
    "#Check Palindrome\n",
    "def palindrome(s):\n",
    "    s = s.replace(' ','');\n",
    "    result = s.lower()[::]==s.lower()[::-1]\n",
    "    if result:\n",
    "        rev_s = s[::-1]\n",
    "        \n",
    "        print(f'{s} is a palindrome {rev_s}')\n",
    "    else:\n",
    "        print('Oops')\n",
    "    return   "
   ]
  },
  {
   "cell_type": "code",
   "execution_count": 163,
   "id": "47b68223",
   "metadata": {},
   "outputs": [
    {
     "name": "stdout",
     "output_type": "stream",
     "text": [
      "Helleh is a palindrome helleH\n"
     ]
    }
   ],
   "source": [
    "palindrome('Helleh')"
   ]
  },
  {
   "cell_type": "code",
   "execution_count": 164,
   "id": "aa11bd55",
   "metadata": {},
   "outputs": [
    {
     "name": "stdout",
     "output_type": "stream",
     "text": [
      "Madam is a palindrome madaM\n"
     ]
    }
   ],
   "source": [
    "palindrome('Madam')"
   ]
  },
  {
   "cell_type": "code",
   "execution_count": 165,
   "id": "fbf28019",
   "metadata": {},
   "outputs": [
    {
     "name": "stdout",
     "output_type": "stream",
     "text": [
      "nursesrun is a palindrome nursesrun\n"
     ]
    }
   ],
   "source": [
    "palindrome('nurses run')"
   ]
  },
  {
   "cell_type": "code",
   "execution_count": 166,
   "id": "75e018ba",
   "metadata": {},
   "outputs": [],
   "source": [
    "#Pangram function:\n",
    "import string\n",
    "def ispangram(str1, alphabet=string.ascii_lowercase):\n",
    "    alphaset = set(alphabet);#create a set of alphabet\n",
    "    str1 = str1.replace(' ', '');#remove all the whitespace\n",
    "    str1 = str1.lower();#transform the string in lower case\n",
    "    str1 = set(str1);#remove all the duplicate alphabets\n",
    "    \n",
    "    return str1 == alphaset"
   ]
  },
  {
   "cell_type": "code",
   "execution_count": 167,
   "id": "73e45576",
   "metadata": {},
   "outputs": [
    {
     "data": {
      "text/plain": [
       "False"
      ]
     },
     "execution_count": 167,
     "metadata": {},
     "output_type": "execute_result"
    }
   ],
   "source": [
    "ispangram('hi')"
   ]
  },
  {
   "cell_type": "code",
   "execution_count": 168,
   "id": "5f13b494",
   "metadata": {},
   "outputs": [
    {
     "data": {
      "text/plain": [
       "True"
      ]
     },
     "execution_count": 168,
     "metadata": {},
     "output_type": "execute_result"
    }
   ],
   "source": [
    "ispangram('the quick brown fox jumps over the lazy dog')"
   ]
  },
  {
   "cell_type": "code",
   "execution_count": null,
   "id": "531123f8",
   "metadata": {},
   "outputs": [],
   "source": []
  }
 ],
 "metadata": {
  "kernelspec": {
   "display_name": "Python 3 (ipykernel)",
   "language": "python",
   "name": "python3"
  },
  "language_info": {
   "codemirror_mode": {
    "name": "ipython",
    "version": 3
   },
   "file_extension": ".py",
   "mimetype": "text/x-python",
   "name": "python",
   "nbconvert_exporter": "python",
   "pygments_lexer": "ipython3",
   "version": "3.9.12"
  }
 },
 "nbformat": 4,
 "nbformat_minor": 5
}
