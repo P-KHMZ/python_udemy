{
 "cells": [
  {
   "cell_type": "markdown",
   "id": "7851d8a2",
   "metadata": {},
   "source": [
    "# Project MileStone"
   ]
  },
  {
   "cell_type": "code",
   "execution_count": 5,
   "id": "83118cca",
   "metadata": {},
   "outputs": [],
   "source": [
    "def display(raw1, raw2, raw3):\n",
    "    print(raw1);\n",
    "    print(raw2);\n",
    "    print(raw3);"
   ]
  },
  {
   "cell_type": "code",
   "execution_count": 6,
   "id": "93b745df",
   "metadata": {},
   "outputs": [],
   "source": [
    "raw1 = [' ', ' ', ' '];\n",
    "raw2 = [' ', ' ', ' '];\n",
    "raw3 = [' ', ' ', ' '];"
   ]
  },
  {
   "cell_type": "code",
   "execution_count": 7,
   "id": "f734536c",
   "metadata": {},
   "outputs": [
    {
     "name": "stdout",
     "output_type": "stream",
     "text": [
      "[' ', ' ', ' ']\n",
      "[' ', ' ', ' ']\n",
      "[' ', ' ', ' ']\n"
     ]
    }
   ],
   "source": [
    "display(raw1, raw2, raw3)"
   ]
  },
  {
   "cell_type": "code",
   "execution_count": 8,
   "id": "6cc4e11c",
   "metadata": {},
   "outputs": [],
   "source": [
    "def user_choice():\n",
    "    #variables\n",
    "    \n",
    "    #init\n",
    "    choice = 'WRONG';\n",
    "    acceptable_range = range(0,10);\n",
    "    within_range = False;\n",
    "    while choice.isdigit() == False or within_range == False:\n",
    "        choice = input(\"Please enter a number (0 - 10): \\n\");\n",
    "        #Digit Check\n",
    "        if choice.isdigit() == False:\n",
    "            print(\"Sorry that is not a digit!\");\n",
    "        #Range check    \n",
    "        if choice.isdigit() == True:\n",
    "            if int(choice) in acceptable_range:\n",
    "                within_range = True;\n",
    "            else:\n",
    "                print(\"You are out of the acceptable range (0-10)\");\n",
    "                within_range = False;"
   ]
  },
  {
   "cell_type": "code",
   "execution_count": null,
   "id": "fd82960d",
   "metadata": {},
   "outputs": [],
   "source": []
  },
  {
   "cell_type": "code",
   "execution_count": 4,
   "id": "1d4109d5",
   "metadata": {},
   "outputs": [],
   "source": [
    "game_list = [0,1,2];\n",
    "def display_list(game_list):\n",
    "    print(\"Here is the current list:\\n\");\n",
    "    print(game_list)"
   ]
  },
  {
   "cell_type": "code",
   "execution_count": 5,
   "id": "5f226475",
   "metadata": {},
   "outputs": [],
   "source": [
    "#this function asks the user to input the index or position in which he/she wishes to make changes\n",
    "def position_choice():\n",
    "    choice = \"Wrong\";\n",
    "    while choice not in ['0','1','2']:\n",
    "        choice = input(\"Pick up a position(0, 1, 2):\\n\");\n",
    "        if choice not in ['0','1','2']:\n",
    "            print(\"Sorry, Invalid choice!\")\n",
    "    return int(choice)"
   ]
  },
  {
   "cell_type": "code",
   "execution_count": 6,
   "id": "504653f4",
   "metadata": {},
   "outputs": [],
   "source": [
    "#this functions input the changes on that specific position\n",
    "def replace_choice(game_list, position):\n",
    "    user_placement = input('Type in to choose a place position');\n",
    "    game_list[position] = user_placement\n",
    "    return game_list"
   ]
  },
  {
   "cell_type": "code",
   "execution_count": 7,
   "id": "780eb56e",
   "metadata": {},
   "outputs": [],
   "source": [
    "#this function asks the user if he/she wants to continue or not\n",
    "def game_on_choice():\n",
    "    choice = 'Wrong';\n",
    "    while choice not in ['Y', 'N']:\n",
    "        choice = input(\"Keep playing?(Y or N)\");\n",
    "        if choice not in ['Y', 'N']:\n",
    "            print(\"Sorry I do not understand, please choose Y or N\");\n",
    "        if choice =='Y':\n",
    "            return True\n",
    "    else:\n",
    "        return False"
   ]
  },
  {
   "cell_type": "code",
   "execution_count": null,
   "id": "7336027e",
   "metadata": {},
   "outputs": [],
   "source": []
  },
  {
   "cell_type": "code",
   "execution_count": 8,
   "id": "21252a0f",
   "metadata": {},
   "outputs": [
    {
     "name": "stdout",
     "output_type": "stream",
     "text": [
      "Here is the current list:\n",
      "\n",
      "[0, 1, 2]\n",
      "Pick up a position(0, 1, 2):\n",
      "1\n",
      "Type in to choose a place positionhi\n",
      "Here is the current list:\n",
      "\n",
      "[0, 'hi', 2]\n",
      "Keep playing?(Y or N)y\n",
      "Sorry I do not understand, please choose Y or N\n",
      "Keep playing?(Y or N)Y\n",
      "Here is the current list:\n",
      "\n",
      "[0, 'hi', 2]\n",
      "Pick up a position(0, 1, 2):\n",
      "2\n",
      "Type in to choose a place positionyou\n",
      "Here is the current list:\n",
      "\n",
      "[0, 'hi', 'you']\n",
      "Keep playing?(Y or N)N\n"
     ]
    }
   ],
   "source": [
    "game_on = True; \n",
    "game_list = [0,1,2]#initial list\n",
    "while game_on:\n",
    "    display_list(game_list);\n",
    "    position = position_choice()#the player chooses the position\n",
    "    game_list = replace_choice(game_list, position)#update the game list based on the replace_choice\n",
    "    display_list(game_list)\n",
    "    game_on = game_on_choice()"
   ]
  },
  {
   "cell_type": "markdown",
   "id": "104b5d4d",
   "metadata": {},
   "source": [
    "# Tic Tac Toe"
   ]
  },
  {
   "cell_type": "code",
   "execution_count": 114,
   "id": "f4cd5608",
   "metadata": {},
   "outputs": [],
   "source": [
    "from IPython.display import clear_output\n",
    "def display_board(board):\n",
    "    clear_output();#this function enables the program to show the output only once and clears the history\n",
    "    print('   |   |');\n",
    "    print(' '+board[7]+' | '+board[8]+' | '+board[9]);\n",
    "    print('   |   |');\n",
    "    print('-----------');\n",
    "    print('   |   |');\n",
    "    print(' '+board[4]+' | '+board[5]+' | '+board[6]);\n",
    "    print('   |   |');\n",
    "    print('-----------');\n",
    "    print('   |   |');\n",
    "    print(' '+board[1]+' | '+board[2]+' | '+board[3]);\n",
    "    print('   |   |');\n"
   ]
  },
  {
   "cell_type": "code",
   "execution_count": 115,
   "id": "abc9c082",
   "metadata": {},
   "outputs": [],
   "source": [
    "# test_board = ['#','X','O','X','O','X','O','X','O','X']\n",
    "# test_board = [' ']*10;\n",
    "# display_output(test_board)"
   ]
  },
  {
   "cell_type": "code",
   "execution_count": 116,
   "id": "ea9e6592",
   "metadata": {},
   "outputs": [],
   "source": [
    "def player_input():\n",
    "    #Output = (player1_marker, player2_marker)\n",
    "    marker = '';\n",
    "    while marker!= 'X' and marker!= 'O':\n",
    "        marker = input('Player 1: Choose X or O: ').upper();\n",
    "        if marker == 'X':\n",
    "            return('X', 'O')#if player 1 chooses X the program assigns automatically O to the second player\n",
    "        else:\n",
    "            return ('O', 'X')#if player 1 chooses O the program assigns automatically X to the second player"
   ]
  },
  {
   "cell_type": "code",
   "execution_count": 117,
   "id": "b4385882",
   "metadata": {},
   "outputs": [],
   "source": [
    "# player1_marker, player2_marker = player_input()#test"
   ]
  },
  {
   "cell_type": "code",
   "execution_count": 118,
   "id": "e38ffe78",
   "metadata": {},
   "outputs": [],
   "source": [
    "# player2_marker"
   ]
  },
  {
   "cell_type": "code",
   "execution_count": 119,
   "id": "f7980667",
   "metadata": {},
   "outputs": [],
   "source": [
    "def place_marker(board, marker, position):\n",
    "    '''\n",
    "        board=it's the input, marker= the element entered, position= the location where to store the element\n",
    "    '''\n",
    "    board[position] = marker;\n"
   ]
  },
  {
   "cell_type": "code",
   "execution_count": 120,
   "id": "a72b4e34",
   "metadata": {},
   "outputs": [],
   "source": [
    "# place_marker(test_board, 'X', 5);\n",
    "# display_output(test_board)"
   ]
  },
  {
   "cell_type": "code",
   "execution_count": 140,
   "id": "1bd8bc73",
   "metadata": {},
   "outputs": [],
   "source": [
    "def win_check(board, mark):\n",
    "    #Win the TIC TAC TOE\n",
    "        #All Rows and check if they share the same marker\n",
    "    return  ((board[1] == mark and board[2] == mark and board[3] == mark) or\n",
    "             (board[4] == mark and board[5] == mark and board[6] == mark) or\n",
    "             (board[7] == mark and board[8] == mark and board[9] == mark) or\n",
    "            #All column\n",
    "             (board[1] == mark and board[4] == mark and board[7] == mark) or\n",
    "             (board[2] == mark and board[5] == mark and board[8] == mark) or\n",
    "             (board[3] == mark and board[6] == mark and board[9] == mark) or\n",
    "            #2 Diagonals\n",
    "             (board[1] == mark and board[5] == mark and board[9] == mark) or\n",
    "             (board[3] == mark and board[5] == mark and board[7] == mark))    "
   ]
  },
  {
   "cell_type": "code",
   "execution_count": 141,
   "id": "1d24ad6b",
   "metadata": {},
   "outputs": [],
   "source": [
    "# win_check(test_board, 'X')"
   ]
  },
  {
   "cell_type": "code",
   "execution_count": 142,
   "id": "2ad256ce",
   "metadata": {},
   "outputs": [],
   "source": [
    "import random\n",
    "def choose_first():\n",
    "    flip = random.randint(0,1);\n",
    "    if flip == 0:\n",
    "        return 'Player 1'\n",
    "    else:\n",
    "        return 'Player 2'"
   ]
  },
  {
   "cell_type": "code",
   "execution_count": 143,
   "id": "ead01164",
   "metadata": {},
   "outputs": [],
   "source": [
    "def space_check(board, position):\n",
    "    return board[position] == ' '#there's an empty space"
   ]
  },
  {
   "cell_type": "code",
   "execution_count": 144,
   "id": "a88cc7f2",
   "metadata": {},
   "outputs": [],
   "source": [
    "def full_board_check(board):\n",
    "    for i in range(1, 10):\n",
    "        if space_check(board, i):#if there's an empty space using board at position i\n",
    "            return False # the board is not full\n",
    "        return True # the board is full"
   ]
  },
  {
   "cell_type": "code",
   "execution_count": 145,
   "id": "a631064f",
   "metadata": {},
   "outputs": [],
   "source": [
    "def player_choice(board):#ask the user user for the next position\n",
    "    position = 0;\n",
    "    while position not in [1,2,3,4,5,6,7,8,9] or not space_check(board, position):#if the board is not free\n",
    "        position = int(input('Choose a position:(1-9)'))\n",
    "    return position \n",
    "    "
   ]
  },
  {
   "cell_type": "code",
   "execution_count": 146,
   "id": "d7b90cda",
   "metadata": {},
   "outputs": [],
   "source": [
    "def replay():\n",
    "    choice = input(\"Play again? Enter Yes or No\")\n",
    "    return choice == 'Yes'"
   ]
  },
  {
   "cell_type": "markdown",
   "id": "ea44c69e",
   "metadata": {},
   "source": [
    "# Put everything together"
   ]
  },
  {
   "cell_type": "code",
   "execution_count": null,
   "id": "9a94f9c8",
   "metadata": {},
   "outputs": [],
   "source": [
    "print('Welcome to Tic Tac Toe');\n",
    "while True:\n",
    "    #PLAY THE GAME\n",
    "    ## Set everything up(Board, whos first, choose marker X, O)\n",
    "    the_board = [' ']*10;\n",
    "    player1_marker, player2_marker = player_input();#player_marker\n",
    "    turn = choose_first();\n",
    "    print(turn+' will go first');\n",
    "    play_game = input(\"Ready to play? Y or N\");\n",
    "    if play_game == 'Y':\n",
    "        game_on = True\n",
    "    else:\n",
    "        game_on = False\n",
    "    while game_on:\n",
    "        if turn == 'Player 1':\n",
    "            display_board(the_board)#display the board\n",
    "            #chooose the position\n",
    "            position = player_choice(the_board);\n",
    "            #place the marker on the position\n",
    "            place_marker(the_board, player1_marker, position)\n",
    "            #check if they won\n",
    "            if win_check(the_board, player1_marker):\n",
    "                display_board(the_board)\n",
    "                print('Player 1 has won!!');\n",
    "                game_on = False\n",
    "            else:\n",
    "                if full_board_check(the_board):\n",
    "                    display_board(the_board);\n",
    "                    print('TIE GAME')\n",
    "                    game_on = False\n",
    "                else:\n",
    "                    turn = 'Player 2';\n",
    "        else:\n",
    "            display_board(the_board)#display the board\n",
    "            #chooose the position\n",
    "            position = player_choice(the_board);\n",
    "            #place the marker on the position\n",
    "            place_marker(the_board, player2_marker, position)\n",
    "            #check if they won\n",
    "            if win_check(the_board, player2_marker):\n",
    "                display_board(the_board)\n",
    "                print('Player 2 has won!!');\n",
    "                game_on = False\n",
    "            else:\n",
    "                if full_board_check(the_board):\n",
    "                    display_board(the_board);\n",
    "                    print('TIE 2 GAME')\n",
    "                    game_on = False\n",
    "                else:\n",
    "                    turn = 'Player 1';\n",
    "    if not replay():\n",
    "        break\n",
    "        \n"
   ]
  },
  {
   "cell_type": "markdown",
   "id": "3226042c",
   "metadata": {},
   "source": [
    "# Solution"
   ]
  },
  {
   "cell_type": "code",
   "execution_count": null,
   "id": "e24b2364",
   "metadata": {},
   "outputs": [],
   "source": [
    "# print('Welcome to Tic Tac Toe!')\n",
    "\n",
    "# while True:\n",
    "#     # Reset the board\n",
    "#     theBoard = [' '] * 10\n",
    "#     player1_marker, player2_marker = player_input()\n",
    "#     turn = choose_first()\n",
    "#     print(turn + ' will go first.')\n",
    "    \n",
    "#     play_game = input('Are you ready to play? Enter Yes or No.')\n",
    "    \n",
    "#     if play_game.lower()[0] == 'y':\n",
    "#         game_on = True\n",
    "#     else:\n",
    "#         game_on = False\n",
    "\n",
    "#     while game_on:\n",
    "#         if turn == 'Player 1':\n",
    "#             # Player1's turn.\n",
    "            \n",
    "#             display_board(theBoard)\n",
    "#             position = player_choice(theBoard)\n",
    "#             place_marker(theBoard, player1_marker, position)\n",
    "\n",
    "#             if win_check(theBoard, player1_marker):\n",
    "#                 display_board(theBoard)\n",
    "#                 print('Congratulations! You have won the game!')\n",
    "#                 game_on = False\n",
    "#             else:\n",
    "#                 if full_board_check(theBoard):\n",
    "#                     display_board(theBoard)\n",
    "#                     print('The game is a draw!')\n",
    "#                     break\n",
    "#                 else:\n",
    "#                     turn = 'Player 2'\n",
    "\n",
    "#         else:\n",
    "#             # Player2's turn.\n",
    "            \n",
    "#             display_board(theBoard)\n",
    "#             position = player_choice(theBoard)\n",
    "#             place_marker(theBoard, player2_marker, position)\n",
    "\n",
    "#             if win_check(theBoard, player2_marker):\n",
    "#                 display_board(theBoard)\n",
    "#                 print('Player 2 has won!')\n",
    "#                 game_on = False\n",
    "#             else:\n",
    "#                 if full_board_check(theBoard):\n",
    "#                     display_board(theBoard)\n",
    "#                     print('The game is a draw!')\n",
    "#                     break\n",
    "#                 else:\n",
    "#                     turn = 'Player 1'\n",
    "\n",
    "#     if not replay():\n",
    "#         break"
   ]
  }
 ],
 "metadata": {
  "kernelspec": {
   "display_name": "Python 3 (ipykernel)",
   "language": "python",
   "name": "python3"
  },
  "language_info": {
   "codemirror_mode": {
    "name": "ipython",
    "version": 3
   },
   "file_extension": ".py",
   "mimetype": "text/x-python",
   "name": "python",
   "nbconvert_exporter": "python",
   "pygments_lexer": "ipython3",
   "version": "3.9.12"
  }
 },
 "nbformat": 4,
 "nbformat_minor": 5
}
